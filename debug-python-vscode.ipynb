{
 "cells": [
  {
   "cell_type": "markdown",
   "metadata": {},
   "source": [
    "# **Depurando no Vs Code com Python:**\n",
    "\n",
    "___\n"
   ]
  },
  {
   "cell_type": "markdown",
   "metadata": {},
   "source": [
    "## Primeiros passos:\n",
    "\n",
    "**Para iniciar o depurador, existem 2 formas:**\n",
    "\n",
    "* _Pode-se iniciar com o f5._\n",
    "* _Outra forma é pela aba `Run and Debug` no menu lateral e clicando no emote._\n",
    "\n",
    "**Em seguida, será preciso selecionar qual configuração usar durante o `Debug`, que no caso utilizaremos o \"Python File\".**\n",
    "\n",
    "**Para começar a debugar será preciso adcionar um \"breakpoint\", que será onde a execução irá parar.**\n",
    "\n",
    "**Para adcionar o breakpoint, também existem 2 formas:**\n",
    "\n",
    "* _Para adcionar o breakpoint, basta clicar na linha no código, com f9._\n",
    "* _Outra forma de adcionar é clicando na bolinha vermelha à esquerda._\n",
    "\n",
    "\n",
    "\n",
    "#### Durante a execução, terá um menu de reprodução da depuração:\n",
    ">\n",
    "> ##### Continue (continuar):\n",
    "> * _Avança com a execução em modo debug até o próximo breakpoint (atalho f5)._\n",
    ">\n",
    "> ##### Step over (contornar):\n",
    "> * _Executa a linha atual do código sem entrar em funções (atalho f10)._\n",
    ">\n",
    ">##### Step into (intervir):\n",
    "> * _Executa a linha atual do código e entra em funções (atalho f11)._\n",
    ">\n",
    ">##### Step out (sair):\n",
    "> * _Sai da função atual e continua a execução (atalho shift + f11)._\n",
    ">\n",
    ">##### Restart (reiniciar):\n",
    "> * _Recomeça a execução do debugger (atalho ctrl + atalho shift + f5)._\n",
    ">\n",
    ">##### Stop (interromper):\n",
    "> * _Encerra a execução do debugger (atalho shift + f5)._\n",
    "\n",
    "<br>\n",
    "\n",
    "___\n"
   ]
  },
  {
   "cell_type": "markdown",
   "metadata": {},
   "source": [
    "## Visualizando Dados:\n",
    "\n",
    "##### **Ao iniciar o debugger, aparecerá um menu lateral divido em 4 sub-grupos:**\n",
    "\n",
    "#### `VARIABLES` (variáveis)\n",
    "\n",
    "##### _Nesta aba pode se ver todas as variáveis e seus valores no contexto atual:_\n",
    "\n",
    "> * Locals -> Esta seção lista todas as variáveis locais no escopo da função ou método atual. As variáveis aparecem aqui assim que são inicializadas e desaparecem quando seu escopo termina.\n",
    ">\n",
    "> * Globals -> Esta seção mostra todas as variáveis globais disponíveis no programa. Estas são variáveis que foram definidas fora de qualquer função e estão disponíveis em todo o programa.\n",
    ">\n",
    ">* Dentro de special variables ficam os métodos e atributos “mágicos” (magic methods ou dunder methods) daquele objeto, como __str__, __class__ e __contains__.\n",
    ">\n",
    ">* Dentro de function variables, veremos os métodos padrões daquele objeto, como append, remove e count.\n",
    "\n",
    "#### `WATCH` (inspeção)\n",
    "\n",
    "##### _Aqui pode se adicionar variáveis ou expressões específicas que deseja monitorar de perto. Elas serão avaliadas em tempo real enquanto avança pelo código._\n",
    "\n",
    "#### `CALL STACK` (pilha de chamadas)\n",
    "\n",
    "##### _Esta janela mostra a pilha de chamadas do programa que está sendo depurado. A pilha de chamadas é uma lista das funções ou métodos que o programa chamou para chegar ao ponto atual._\n",
    "\n",
    "#### `BREAKPOINTS` (pontos de parada)\n",
    "\n",
    "##### _São pontos no código onde se deseja que o programa pare durante a depuração. Quando o programa atinge um breakpoint, ele interrompe a execução e permite que seja examinado o seu estado._\n",
    "\n",
    "___\n"
   ]
  },
  {
   "cell_type": "markdown",
   "metadata": {},
   "source": [
    "## Breakpoint Condicional:\n",
    "\n",
    "#### É um tipo especial de breakpoint que interrompe a execução do programa apenas quando uma determinada condição é verdadeira. Útil quando deseja interromper a execução em um loop ou em uma função específica apenas sob certas condições.\n",
    "\n",
    "\n",
    "**Para criar um breakpoint condicional existem 2 formas:**\n",
    "\n",
    "* _Com o botão direito, onde se cria um breakpoint normal, na opção \"Add Conditional Breakpoint\"_\n",
    "* _Outra forma é clicando com o botão direito, na opção \"Edit Breakpoint...\"_\n",
    "\n",
    "<br>\n",
    "\n",
    "___\n"
   ]
  },
  {
   "cell_type": "markdown",
   "metadata": {},
   "source": [
    "## Vs Code Debug Console:\n",
    "\n",
    "#### É uma janela no Vs Code que fornece um ambiente interativo para a saída do código e avaliar as expressões e os valores de variáveis durante a depuração. Além disso, podemos extrapolar e realizar operações.\n",
    "\n",
    "**Para abrir o Vs Code Debug Console, clique no ícone na barra de ferramentas do mesmo.**\n",
    "\n",
    "<br>\n",
    "\n",
    "___"
   ]
  },
  {
   "cell_type": "markdown",
   "metadata": {},
   "source": [
    "## Exercícios:"
   ]
  },
  {
   "cell_type": "markdown",
   "metadata": {},
   "source": [
    "### 1º Exercício:\n",
    "\n",
    "##### _Qual a importância de debugar o código?_\n",
    "\n",
    "##### R: Ao debugar o código, conseguimos observar como as funções ou métodos estão se comportando o que auxília na hora de indentificar, \"bugs\" e erros durante sua execução.\n",
    "\n",
    "</br>\n",
    "\n",
    "##### _Quais são as formas mais comuns de debugar código em Python?_\n",
    "\n",
    "##### R: As formas mais comuns de debugar são: o \"run and debug\" do Vs Code, os testes unitários, e os prints dentro código.\n",
    "\n",
    "</br>\n",
    "\n",
    "##### _Quais as vantagens de usar debugger do VS Code?_\n",
    "\n",
    "##### R: O debugger do Vs Code é prático hora de depurar. Quando se tem uma função ou um método muito complexo, os prints acabam se tornando numerosos e não possuem uma visualização tão clara, e em relação aos testes unitários é necessário escrever um teste inteiro, podendo ser bem complexo, o debugger não substitui completamente o uso de testes unitários."
   ]
  },
  {
   "cell_type": "markdown",
   "metadata": {},
   "source": [
    "### 2º Exercício:\n",
    "\n",
    "##### Considere o exemplo de código a seguir:"
   ]
  },
  {
   "cell_type": "code",
   "execution_count": null,
   "metadata": {},
   "outputs": [],
   "source": [
    "from math import factorial\n",
    "\n",
    "\n",
    "def map_factorial(numbers):\n",
    "    result = []\n",
    "\n",
    "    for num in numbers:\n",
    "        result.append(factorial(num))\n",
    "\n",
    "    return result\n",
    "\n",
    "\n",
    "def main():\n",
    "    input_list = [1, 2, 3, 4, 5]\n",
    "    return map_factorial(input_list)\n",
    "\n",
    "\n",
    "if __name__ == \"__main__\":\n",
    "    main()\n"
   ]
  },
  {
   "cell_type": "markdown",
   "metadata": {},
   "source": [
    "##### Sem alterar o código, descubra qual exceção é levantada se:\n",
    "\n",
    "* **Um dos elementos da input_list for um inteiro negativo.**\n",
    "* **Um dos elementos da input_list for uma string.**\n",
    "\n",
    "##### R: Para ambos, utilizando o depurador, coloquei um breakpoint após a definição de input_list, e alterei um valor da mesma usando o set Value para um valor negativo e depois para string, continuando a depuração obtive respectivamente os seguintes erros de \"ValueError\" e \"TypeError\".\n",
    "\n",
    "`Exception has occurred: ValueError\n",
    "factorial() not defined for negative values\n",
    "_(omitindo o caminho do arquivo)_\n",
    "ValueError: factorial() not defined for negative values`\n",
    "\n",
    "`\n",
    "Exception has occurred: TypeError\n",
    "'str' object cannot be interpreted as an integer\n",
    "_(omitindo o caminho do arquivo)_\n",
    "TypeError: 'str' object cannot be interpreted as an integer\n",
    "`"
   ]
  },
  {
   "cell_type": "markdown",
   "metadata": {},
   "source": [
    "### 3º Exercício:\n",
    "\n",
    "##### Considere o exemplo de código a seguir:"
   ]
  },
  {
   "cell_type": "code",
   "execution_count": null,
   "metadata": {},
   "outputs": [],
   "source": [
    "def insertion_sort(array):\n",
    "    for i in range(1, len(array)):\n",
    "        current_value = array[i]\n",
    "        position = i\n",
    "\n",
    "        while position > 0 and array[position - 1] > current_value:\n",
    "            array[position] = array[position - 1]\n",
    "            position -= 1\n",
    "\n",
    "        array[position] = current_value\n",
    "\n",
    "    return array\n",
    "\n",
    "\n",
    "def main():\n",
    "\n",
    "    array = [23, 423, 1, 54, 8, 980, 45, 768, 34, 55, 88, 99, 100, 234, 567]\n",
    "\n",
    "    sorted_array = insertion_sort(array)\n",
    "\n",
    "    print(f\"Array ordenado: {sorted_array}\")\n",
    "\n",
    "\n",
    "if __name__ == \"__main__\":\n",
    "    main()\n"
   ]
  },
  {
   "cell_type": "markdown",
   "metadata": {},
   "source": [
    "##### Descubra o valor de current_value na linha do while quando a soma de i e position for igual a 6 pela primeira vez.\n",
    "\n",
    "##### R: Para descobrir basta adicionar um conditional breakpoint após o while, linha 7, com a seguinte condição ```position + i == 6```. Na aba `VARIABLES`, `current_value` estará valendo 54."
   ]
  }
 ],
 "metadata": {
  "kernelspec": {
   "display_name": "Python 3",
   "language": "python",
   "name": "python3"
  },
  "language_info": {
   "name": "python",
   "version": "3.10.12"
  }
 },
 "nbformat": 4,
 "nbformat_minor": 2
}
